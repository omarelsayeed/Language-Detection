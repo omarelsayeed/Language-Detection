{
 "cells": [
  {
   "cell_type": "code",
   "execution_count": 2,
   "metadata": {},
   "outputs": [],
   "source": [
    "from fastbook import *\n",
    "from fastai.imports import *\n",
    "from fastdownload import *\n",
    "from fastai.vision.all import *\n",
    "from fastai.vision.widgets import *\n",
    "import timm\n",
    "%matplotlib inline"
   ]
  },
  {
   "cell_type": "code",
   "execution_count": 7,
   "metadata": {},
   "outputs": [],
   "source": [
    "import pandas as pd\n",
    "dataset = pd.read_csv('Language Detection.csv')"
   ]
  },
  {
   "cell_type": "code",
   "execution_count": 4,
   "metadata": {},
   "outputs": [
    {
     "data": {
      "text/plain": [
       "English       1385\n",
       "French        1014\n",
       "Spanish        819\n",
       "Portugeese     739\n",
       "Italian        698\n",
       "Russian        692\n",
       "Sweedish       676\n",
       "Malayalam      594\n",
       "Dutch          546\n",
       "Arabic         536\n",
       "Turkish        474\n",
       "German         470\n",
       "Tamil          469\n",
       "Danish         428\n",
       "Kannada        369\n",
       "Greek          365\n",
       "Hindi           63\n",
       "Name: Language, dtype: int64"
      ]
     },
     "execution_count": 4,
     "metadata": {},
     "output_type": "execute_result"
    }
   ],
   "source": [
    "dataset['Language'].value_counts()"
   ]
  },
  {
   "cell_type": "code",
   "execution_count": 7,
   "metadata": {},
   "outputs": [
    {
     "name": "stdout",
     "output_type": "stream",
     "text": [
      "current language is Sweedish\n",
      "current language is Spanish\n"
     ]
    }
   ],
   "source": [
    "path = Path('train_data_language')\n",
    "path.mkdir(parents=True, exist_ok=True)\n",
    "#available_languages = list(dataset['Language'].value_counts().index)\n",
    "available_languages = ['Sweedish' , 'Spanish']\n",
    "for language in available_languages:\n",
    "    path_language = path/language\n",
    "    path_language.mkdir(parents=True, exist_ok=True)\n",
    "    print(f'current language is {language}')\n",
    "    for i in range(len(dataset)):\n",
    "        if dataset.loc[i].Language == language:\n",
    "            try :\n",
    "                create_image_from_text1(dataset.loc[i].Text, path_language/(f'sample{i}.jpg'))\n",
    "            except :\n",
    "                print(dataset.loc[i].Text)"
   ]
  },
  {
   "cell_type": "code",
   "execution_count": 64,
   "metadata": {},
   "outputs": [
    {
     "data": {
      "image/png": "[encoded data removed]",
      "text/plain": [
       "<PIL.Image.Image image mode=L size=255x255 at 0x168D6574880>"
      ]
     },
     "execution_count": 64,
     "metadata": {},
     "output_type": "execute_result"
    }
   ],
   "source": [
    "\n",
    "from PIL import Image, ImageDraw , ImageFont\n",
    "\n",
    "def create_image_from_text(text,name_of_file):\n",
    "    width = 255\n",
    "    height = 255\n",
    "    n=65\n",
    "    splitted_string =  [text[i:i+n] for i in range(0, len(text), n)]\n",
    "    text = ' \\n '.join(splitted_string)\n",
    "    img = Image.new('L', (width, height), color='white')\n",
    "    imgDraw = ImageDraw.Draw(img)\n",
    "    imgDraw.text((10, 10), text, fill=(0) , font=ImageFont.truetype(\"arial-unicode-ms.ttf\", 10 ,layout_engine=ImageFont.LAYOUT_RAQM ,encoding='utf-8'))\n",
    "    img.save(name_of_file)\n",
    "    return img\n",
    "\n",
    "create_image_from_text(dataset.loc[1997].Text , 'dasd.jpg')"
   ]
  },
  {
   "cell_type": "code",
   "execution_count": 60,
   "metadata": {},
   "outputs": [
    {
     "data": {
      "text/plain": [
       "Text        तब से विकिमीडिया ने कई अन्य परियोजनाएं शुरू की...\n",
       "Language                                                Hindi\n",
       "Name: 1997, dtype: object"
      ]
     },
     "execution_count": 60,
     "metadata": {},
     "output_type": "execute_result"
    }
   ],
   "source": [
    "dataset[dataset['Text'].str.len()==dataset.Text.str.len().max()]\n",
    "dataset.loc[1997]"
   ]
  },
  {
   "cell_type": "code",
   "execution_count": 79,
   "metadata": {},
   "outputs": [
    {
     "name": "stdout",
     "output_type": "stream",
     "text": [
      "current language is English\n",
      "current language is French\n",
      "current language is Spanich\n",
      "current language is Russian\n",
      "current language is Swedish\n",
      "current language is Portugeese\n",
      "current language is Italian\n",
      "current language is Dutch\n",
      "current language is Arabic\n",
      "current language is Turkish\n",
      "current language is German\n",
      "current language is Danish\n",
      "current language is Greek\n"
     ]
    }
   ],
   "source": [
    "path = Path('train_data_language')\n",
    "path.mkdir(parents=True, exist_ok=True)\n",
    "#available_languages = list(dataset['Language'].value_counts().index)\n",
    "available_languages = ['English' , 'French' , 'Spanish' , 'Russian' , 'Sweedish' , 'Portugeese' ,\n",
    "                        'Italian' , 'Dutch' , 'Arabic' , 'Turkish' , 'German' , 'Danish' , 'Greek'\n",
    "                         ]\n",
    "for language in available_languages:\n",
    "    path_language = path/language\n",
    "    path_language.mkdir(parents=True, exist_ok=True)\n",
    "    print(f'current language is {language}')\n",
    "    for i in range(len(dataset)):\n",
    "        if dataset.loc[i].Language == language:\n",
    "            try :\n",
    "                create_image_from_text1(dataset.loc[i].Text, path_language/(f'sample{i}.jpg'))\n",
    "            except :\n",
    "                print(dataset.loc[i].Text)"
   ]
  },
  {
   "cell_type": "code",
   "execution_count": 11,
   "metadata": {},
   "outputs": [
    {
     "name": "stdout",
     "output_type": "stream",
     "text": [
      "Due to IPython and Windows limitation, python multiprocessing isn't available now.\n",
      "So `number_workers` is changed to 0 to avoid getting stuck\n"
     ]
    }
   ],
   "source": [
    "path = Path('train_data_language')\n",
    "dls = DataBlock(\n",
    "    blocks=(ImageBlock, CategoryBlock), \n",
    "    get_items=get_image_files, \n",
    "    splitter=RandomSplitter(valid_pct=0.3, seed=42),\n",
    "    get_y=parent_label,\n",
    "    item_tfms=[RandomResizedCrop(224, min_scale=0.5)],\n",
    "    batch_tfms=aug_transforms()\n",
    ").dataloaders(path)"
   ]
  },
  {
   "cell_type": "code",
   "execution_count": null,
   "metadata": {},
   "outputs": [],
   "source": [
    "model = vision_learner(dls , 'convnext_small', metrics = accuracy)\n",
    "model.fine_tune(10)"
   ]
  },
  {
   "cell_type": "code",
   "execution_count": null,
   "metadata": {},
   "outputs": [],
   "source": []
  }
 ],
 "metadata": {
  "kernelspec": {
   "display_name": "Python 3.8.5 ('base')",
   "language": "python",
   "name": "python3"
  },
  "language_info": {
   "codemirror_mode": {
    "name": "ipython",
    "version": 3
   },
   "file_extension": ".py",
   "mimetype": "text/x-python",
   "name": "python",
   "nbconvert_exporter": "python",
   "pygments_lexer": "ipython3",
   "version": "3.8.5"
  },
  "orig_nbformat": 4,
  "vscode": {
   "interpreter": {
    "hash": "c2b1884aac98f9b7855e8895f74d488ad518f49fce9c97dd1a17c527c00def65"
   }
  }
 },
 "nbformat": 4,
 "nbformat_minor": 2
}
