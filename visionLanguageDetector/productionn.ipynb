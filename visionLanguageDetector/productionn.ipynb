{
 "cells": [
  {
   "cell_type": "code",
   "execution_count": 1,
   "metadata": {},
   "outputs": [],
   "source": [
    "from fastbook import *\n",
    "from fastai.imports import *\n",
    "from fastdownload import *\n",
    "from fastai.vision.all import *\n",
    "from fastai.vision.widgets import *\n",
    "from PIL import ImageDraw , ImageFont\n",
    "import fastai.vision\n",
    "import gradio as gr\n",
    "\n"
   ]
  },
  {
   "cell_type": "code",
   "execution_count": 2,
   "metadata": {},
   "outputs": [],
   "source": [
    "import pathlib\n",
    "plt = platform.system()\n",
    "if plt == 'Windows':  pathlib.PosixPath = pathlib.WindowsPath\n",
    "model = load_learner('lang_model.pkl')"
   ]
  },
  {
   "cell_type": "code",
   "execution_count": 35,
   "metadata": {},
   "outputs": [],
   "source": [
    "categories = model.dls.vocab\n",
    "\n",
    "def process_input(text):\n",
    "    width = 255\n",
    "    height = 255\n",
    "    n=40\n",
    "    splitted_string =  [text[i:i+n] for i in range(0, len(text), n)]\n",
    "    text = ' \\n '.join(splitted_string)\n",
    "    img = Image.new('L', (width, height), color='white')\n",
    "    imgDraw = ImageDraw.Draw(img)\n",
    "    imgDraw.text((10, 10), text, fill=(0) , font=ImageFont.truetype(\"arial-unicode-ms.ttf\", 10 ,layout_engine=ImageFont.LAYOUT_RAQM ,encoding='utf-8'))\n",
    "    return img\n",
    "    \n",
    "def classify_img(im,text):\n",
    "    if text.strip() != '':\n",
    "        img = process_input(text)\n",
    "        pred , idx , probs = model.predict(fastai.vision.core.PILImage(process_input(text)))\n",
    "        return dict(zip(categories , map(float , probs)))\n",
    "    else : \n",
    "        pred , idx , probs = model.predict(im)\n",
    "        return dict(zip(categories , map(float , probs)))"
   ]
  },
  {
   "cell_type": "code",
   "execution_count": 90,
   "metadata": {},
   "outputs": [
    {
     "name": "stderr",
     "output_type": "stream",
     "text": [
      "c:\\Users\\antoz\\anaconda3\\lib\\site-packages\\gradio\\inputs.py:26: UserWarning: Usage of gradio.inputs is deprecated, and will not be supported in the future, please import your component from gradio.components\n",
      "  warnings.warn(\n",
      "c:\\Users\\antoz\\anaconda3\\lib\\site-packages\\gradio\\deprecation.py:40: UserWarning: `optional` parameter is deprecated, and it has no effect\n",
      "  warnings.warn(value)\n",
      "c:\\Users\\antoz\\anaconda3\\lib\\site-packages\\gradio\\deprecation.py:40: UserWarning: `numeric` parameter is deprecated, and it has no effect\n",
      "  warnings.warn(value)\n",
      "c:\\Users\\antoz\\anaconda3\\lib\\site-packages\\gradio\\deprecation.py:40: UserWarning: The 'type' parameter has been deprecated. Use the Number component instead.\n",
      "  warnings.warn(value)\n",
      "c:\\Users\\antoz\\anaconda3\\lib\\site-packages\\gradio\\outputs.py:196: UserWarning: Usage of gradio.outputs is deprecated, and will not be supported in the future, please import your components from gradio.components\n",
      "  warnings.warn(\n",
      "c:\\Users\\antoz\\anaconda3\\lib\\site-packages\\gradio\\inputs.py:256: UserWarning: Usage of gradio.inputs is deprecated, and will not be supported in the future, please import your component from gradio.components\n",
      "  warnings.warn(\n"
     ]
    },
    {
     "name": "stdout",
     "output_type": "stream",
     "text": [
      "Running on local URL:  http://127.0.0.1:7897/\n",
      "Running on public URL: https://28128.gradio.app\n",
      "\n",
      "This share link expires in 72 hours. For free permanent hosting, check out Spaces: https://huggingface.co/spaces\n"
     ]
    },
    {
     "data": {
      "text/html": [
       "<div><iframe src=\"https://28128.gradio.app\" width=\"900\" height=\"500\" allow=\"autoplay; camera; microphone;\" frameborder=\"0\" allowfullscreen></iframe></div>"
      ],
      "text/plain": [
       "<IPython.core.display.HTML object>"
      ]
     },
     "metadata": {},
     "output_type": "display_data"
    },
    {
     "data": {
      "text/plain": [
       "(<gradio.routes.App at 0x18902c11a60>,\n",
       " 'http://127.0.0.1:7897/',\n",
       " 'https://28128.gradio.app')"
      ]
     },
     "execution_count": 90,
     "metadata": {},
     "output_type": "execute_result"
    }
   ],
   "source": [
    "text_input = gr.inputs.Textbox(lines=3 , placeholder=\"You can only put in a text or an img , else you will get an error! , if there's text we ignore the image\")\n",
    "label = gr.outputs.Label()\n",
    "examples = [['dasd.jpg',''] , ['hindi.jpg' , ''] , ['arabic.png' ,'']]\n",
    "image = gr.inputs.Image(shape=(194,194) , image_mode = \"L\")\n",
    "intf = gr.Interface(fn = classify_img , inputs =  [image,text_input ] , outputs = label , examples = examples)\n",
    "intf.launch(share = True)"
   ]
  },
  {
   "cell_type": "code",
   "execution_count": null,
   "metadata": {},
   "outputs": [],
   "source": [
    "categories = model.dls.vocab\n",
    "\n",
    "def process_input(text):\n",
    "    width = 255\n",
    "    height = 255\n",
    "    n=40\n",
    "    splitted_string =  [text[i:i+n] for i in range(0, len(text), n)]\n",
    "    text = ' \\n '.join(splitted_string)\n",
    "    img = Image.new('L', (width, height), color='white')\n",
    "    imgDraw = ImageDraw.Draw(img)\n",
    "    imgDraw.text((10, 10), text, fill=(0) , font=ImageFont.truetype(\"arial-unicode-ms.ttf\", 10 ,layout_engine=ImageFont.LAYOUT_RAQM ,encoding='utf-8'))\n",
    "    return img\n",
    "    \n",
    "def classify_img(im,text):\n",
    "    if text.strip() != '':\n",
    "        img = process_input(text)\n",
    "        pred , idx , probs = model.predict(fastai.vision.core.PILImage(process_input(text)))\n",
    "        return dict(zip(categories , map(float , probs)))\n",
    "    else : \n",
    "        pred , idx , probs = model.predict(im)\n",
    "        return dict(zip(categories , map(float , probs)))"
   ]
  },
  {
   "cell_type": "code",
   "execution_count": null,
   "metadata": {},
   "outputs": [],
   "source": []
  }
 ],
 "metadata": {
  "kernelspec": {
   "display_name": "Python 3.8.5 ('base')",
   "language": "python",
   "name": "python3"
  },
  "language_info": {
   "codemirror_mode": {
    "name": "ipython",
    "version": 3
   },
   "file_extension": ".py",
   "mimetype": "text/x-python",
   "name": "python",
   "nbconvert_exporter": "python",
   "pygments_lexer": "ipython3",
   "version": "3.8.5"
  },
  "orig_nbformat": 4,
  "vscode": {
   "interpreter": {
    "hash": "c2b1884aac98f9b7855e8895f74d488ad518f49fce9c97dd1a17c527c00def65"
   }
  }
 },
 "nbformat": 4,
 "nbformat_minor": 2
}
